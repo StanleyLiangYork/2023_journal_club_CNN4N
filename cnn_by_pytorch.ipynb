{
  "nbformat": 4,
  "nbformat_minor": 0,
  "metadata": {
    "colab": {
      "provenance": [],
      "gpuClass": "premium",
      "authorship_tag": "ABX9TyMKkD0Z0Bu4N96RGywTTz7d",
      "include_colab_link": true
    },
    "kernelspec": {
      "name": "python3",
      "display_name": "Python 3"
    },
    "language_info": {
      "name": "python"
    },
    "accelerator": "GPU",
    "gpuClass": "premium"
  },
  "cells": [
    {
      "cell_type": "markdown",
      "metadata": {
        "id": "view-in-github",
        "colab_type": "text"
      },
      "source": [
        "<a href=\"https://colab.research.google.com/github/StanleyLiangYork/2023_journal_club_CNN4N/blob/main/cnn_by_pytorch.ipynb\" target=\"_parent\"><img src=\"https://colab.research.google.com/assets/colab-badge.svg\" alt=\"Open In Colab\"/></a>"
      ]
    },
    {
      "cell_type": "markdown",
      "source": [
        "This demo shows the basic method to define and train a CNN to classify the Fashion MNIST dataset. Fashion MNIST is a upgraded version for the MNIST dataset. In the MNIST dataset, we classify hand written digits. In the Fashion MNIST dataset, we classify different types of clothes. <p>\n",
        "YOu can compare this notebook and the basic tensorflow notebook for the difference in syntax between Pytorch and Tensorflow"
      ],
      "metadata": {
        "id": "OJUNssHGLSf-"
      }
    },
    {
      "cell_type": "code",
      "execution_count": null,
      "metadata": {
        "id": "eFg_grHNDwuX"
      },
      "outputs": [],
      "source": [
        "import torch \n",
        "import torch.nn as nn\n",
        "import torchvision\n",
        "import torchvision.transforms as transforms\n",
        "from torch.utils.data import Dataset, DataLoader\n",
        "import torchvision.datasets as dsets\n",
        "from sklearn.metrics import confusion_matrix\n",
        "import matplotlib.pylab as plt\n",
        "import numpy as np"
      ]
    },
    {
      "cell_type": "code",
      "source": [
        "def show_data(data_sample):\n",
        "    plt.imshow(data_sample[0].numpy().reshape(IMAGE_SIZE, IMAGE_SIZE), cmap='gray')\n",
        "    plt.title('y = '+ str(data_sample[1]))"
      ],
      "metadata": {
        "id": "kdYuiOf8E2wc"
      },
      "execution_count": null,
      "outputs": []
    },
    {
      "cell_type": "code",
      "source": [
        "device = torch.device('cuda:0' if torch.cuda.is_available() else 'cpu')\n",
        "# for cpu only, uncomment the next line\n",
        "# device = torch.device('cpu')\n",
        "device"
      ],
      "metadata": {
        "colab": {
          "base_uri": "https://localhost:8080/"
        },
        "id": "rrhiiG58FW3-",
        "outputId": "4babe4a5-a2e4-4ac5-d07a-3680d9debe6c"
      },
      "execution_count": null,
      "outputs": [
        {
          "output_type": "execute_result",
          "data": {
            "text/plain": [
              "device(type='cuda', index=0)"
            ]
          },
          "metadata": {},
          "execution_count": 4
        }
      ]
    },
    {
      "cell_type": "code",
      "source": [
        "IMAGE_SIZE = 32\n",
        "composed = transforms.Compose([\n",
        "    transforms.Resize((IMAGE_SIZE, IMAGE_SIZE)), \n",
        "    transforms.ToTensor(),\n",
        "    ])"
      ],
      "metadata": {
        "id": "nA3f33kjGYOX"
      },
      "execution_count": null,
      "outputs": []
    },
    {
      "cell_type": "code",
      "source": [
        "train_dataset = dsets.FashionMNIST(root='./data', train=True, download=True, transform=composed)\n",
        "validation_dataset = dsets.FashionMNIST(root='./data', train=False, download=True, transform=composed)\n",
        "# the datasets have been converted to the torch.utils.data.Dataset format, which can be pipelined to the torch.utils.data.DataLoaders"
      ],
      "metadata": {
        "colab": {
          "base_uri": "https://localhost:8080/"
        },
        "id": "9Slws846GtGG",
        "outputId": "0f364f3c-fe31-4794-9e21-81471aed4c0a"
      },
      "execution_count": null,
      "outputs": [
        {
          "output_type": "stream",
          "name": "stdout",
          "text": [
            "Downloading http://fashion-mnist.s3-website.eu-central-1.amazonaws.com/train-images-idx3-ubyte.gz\n",
            "Downloading http://fashion-mnist.s3-website.eu-central-1.amazonaws.com/train-images-idx3-ubyte.gz to ./data/FashionMNIST/raw/train-images-idx3-ubyte.gz\n"
          ]
        },
        {
          "output_type": "stream",
          "name": "stderr",
          "text": [
            "100%|██████████| 26421880/26421880 [00:00<00:00, 117013518.33it/s]\n"
          ]
        },
        {
          "output_type": "stream",
          "name": "stdout",
          "text": [
            "Extracting ./data/FashionMNIST/raw/train-images-idx3-ubyte.gz to ./data/FashionMNIST/raw\n",
            "\n",
            "Downloading http://fashion-mnist.s3-website.eu-central-1.amazonaws.com/train-labels-idx1-ubyte.gz\n",
            "Downloading http://fashion-mnist.s3-website.eu-central-1.amazonaws.com/train-labels-idx1-ubyte.gz to ./data/FashionMNIST/raw/train-labels-idx1-ubyte.gz\n"
          ]
        },
        {
          "output_type": "stream",
          "name": "stderr",
          "text": [
            "100%|██████████| 29515/29515 [00:00<00:00, 4271587.68it/s]"
          ]
        },
        {
          "output_type": "stream",
          "name": "stdout",
          "text": [
            "Extracting ./data/FashionMNIST/raw/train-labels-idx1-ubyte.gz to ./data/FashionMNIST/raw\n",
            "\n",
            "Downloading http://fashion-mnist.s3-website.eu-central-1.amazonaws.com/t10k-images-idx3-ubyte.gz\n",
            "Downloading http://fashion-mnist.s3-website.eu-central-1.amazonaws.com/t10k-images-idx3-ubyte.gz to ./data/FashionMNIST/raw/t10k-images-idx3-ubyte.gz\n"
          ]
        },
        {
          "output_type": "stream",
          "name": "stderr",
          "text": [
            "\n",
            "100%|██████████| 4422102/4422102 [00:00<00:00, 60732484.74it/s]\n"
          ]
        },
        {
          "output_type": "stream",
          "name": "stdout",
          "text": [
            "Extracting ./data/FashionMNIST/raw/t10k-images-idx3-ubyte.gz to ./data/FashionMNIST/raw\n",
            "\n",
            "Downloading http://fashion-mnist.s3-website.eu-central-1.amazonaws.com/t10k-labels-idx1-ubyte.gz\n",
            "Downloading http://fashion-mnist.s3-website.eu-central-1.amazonaws.com/t10k-labels-idx1-ubyte.gz to ./data/FashionMNIST/raw/t10k-labels-idx1-ubyte.gz\n"
          ]
        },
        {
          "output_type": "stream",
          "name": "stderr",
          "text": [
            "100%|██████████| 5148/5148 [00:00<00:00, 4364721.45it/s]\n"
          ]
        },
        {
          "output_type": "stream",
          "name": "stdout",
          "text": [
            "Extracting ./data/FashionMNIST/raw/t10k-labels-idx1-ubyte.gz to ./data/FashionMNIST/raw\n",
            "\n"
          ]
        }
      ]
    },
    {
      "cell_type": "code",
      "source": [
        "def output_label(label):\n",
        "    output_mapping = {\n",
        "                 0: \"T-shirt/Top\",\n",
        "                 1: \"Trouser\",\n",
        "                 2: \"Pullover\",\n",
        "                 3: \"Dress\",\n",
        "                 4: \"Coat\", \n",
        "                 5: \"Sandal\", \n",
        "                 6: \"Shirt\",\n",
        "                 7: \"Sneaker\",\n",
        "                 8: \"Bag\",\n",
        "                 9: \"Ankle Boot\"\n",
        "                 }\n",
        "    # if the label has been converted to a Pytorch tensor, get the value of the tensor by the item() method,\n",
        "    # if not, directly assign the value from numpy\n",
        "    input = (label.item() if type(label) == torch.Tensor else label)\n",
        "    return output_mapping[input]"
      ],
      "metadata": {
        "id": "jaFhNYbgHFLW"
      },
      "execution_count": null,
      "outputs": []
    },
    {
      "cell_type": "code",
      "source": [
        "def show_data(data_sample, IMAGE_SIZE=32):\n",
        "  # define the color map / cmap for correct display\n",
        "    plt.imshow(data_sample[0].numpy().reshape(IMAGE_SIZE, IMAGE_SIZE), cmap='gray')\n",
        "    plt.title('y = '+ str(output_label(data_sample[1])))"
      ],
      "metadata": {
        "id": "8QdMlh2vJgBc"
      },
      "execution_count": null,
      "outputs": []
    },
    {
      "cell_type": "code",
      "source": [
        "show_data(train_dataset[100])"
      ],
      "metadata": {
        "colab": {
          "base_uri": "https://localhost:8080/",
          "height": 452
        },
        "id": "swkVqeysI8kR",
        "outputId": "a807c55a-1a98-467a-9dae-db894a56f856"
      },
      "execution_count": null,
      "outputs": [
        {
          "output_type": "display_data",
          "data": {
            "text/plain": [
              "<Figure size 640x480 with 1 Axes>"
            ],
            "image/png": "[encoded data removed]"
          },
          "metadata": {}
        }
      ]
    },
    {
      "cell_type": "markdown",
      "source": [
        "Build a Convolutional Neural Network Class"
      ],
      "metadata": {
        "id": "3HasscjMKDty"
      }
    },
    {
      "cell_type": "code",
      "source": [
        "# in Pytorch torch, the network architecture should be firstly defiine as a python class inherited from the nn.Module super class\n",
        "# for the object oriented programming syntax of python, refer to the python coding tutorial notebook\n",
        "class CNN(nn.Module):\n",
        "    \n",
        "    # Constructor - in the constructor, we only define network architector, NOT behavior, all behaviors are left to the forward method\n",
        "    def __init__(self):\n",
        "        super(CNN, self).__init__() # call the super / parent class thus instantiate self \n",
        "        # set up the CNN based on the module format, a single module = 2D conv + Batch Normalization + Drop out + ReLU activation + Max Pooling\n",
        "        self.module1 = nn.Sequential(\n",
        "            nn.Conv2d(in_channels=1, out_channels=32, kernel_size=3, padding='same'), # 'same' means the output width and height unchange, the empty pixels are padded by zero\n",
        "            nn.BatchNorm2d(32),\n",
        "            nn.Dropout(p=0.2),\n",
        "            nn.ReLU(),\n",
        "            nn.MaxPool2d(kernel_size=2),\n",
        "            ) # 16*16*32\n",
        "        \n",
        "        self.module2 = nn.Sequential(\n",
        "            nn.Conv2d(in_channels=32, out_channels=64, kernel_size=3, padding='same'),\n",
        "            nn.BatchNorm2d(64),\n",
        "            nn.Dropout(p=0.2),\n",
        "            nn.ReLU(),\n",
        "            nn.MaxPool2d(kernel_size=2),\n",
        "            ) # 8*8*64\n",
        "        \n",
        "        self.module3 = nn.Sequential(\n",
        "            nn.Conv2d(in_channels=64, out_channels=128, kernel_size=3, padding='same'),\n",
        "            nn.BatchNorm2d(128),\n",
        "            nn.Dropout(p=0.2),\n",
        "            nn.ReLU(),\n",
        "            nn.MaxPool2d(kernel_size=2),\n",
        "            ) # 4*4*128\n",
        "\n",
        "        self.flat = nn.Flatten()  # reduce N-dimension tensor to a 1-D vector\n",
        "        self.fc1 = nn.Linear(in_features=4*4*128, out_features=4*4*128)\n",
        "        self.drop = nn.Dropout(p=0.4)\n",
        "        self.fc2 = nn.Linear(in_features=4*4*128, out_features=1024)\n",
        "        self.fc3 = nn.Linear(in_features=1024, out_features=10)\n",
        "    \n",
        "    # Prediction - the forward method is mandatory, it defines how the data being passed through the network architecture \n",
        "    def forward(self, x):\n",
        "        x = self.module1(x)\n",
        "        x = self.module2(x)\n",
        "        x = self.module3(x)\n",
        "        x = self.flat(x)\n",
        "        x = self.fc1(x)\n",
        "        x = self.drop(x)\n",
        "        x = self.fc2(x)\n",
        "        x = self.fc3(x)\n",
        "        return x"
      ],
      "metadata": {
        "id": "dXQnLh7_J-Zk"
      },
      "execution_count": null,
      "outputs": []
    },
    {
      "cell_type": "code",
      "source": [
        "model = CNN()"
      ],
      "metadata": {
        "id": "0BBZmdeWjCWM"
      },
      "execution_count": null,
      "outputs": []
    },
    {
      "cell_type": "code",
      "source": [
        "print(model)"
      ],
      "metadata": {
        "colab": {
          "base_uri": "https://localhost:8080/"
        },
        "id": "6mIOymPwkCXR",
        "outputId": "4b942104-a64f-46d9-ba18-a383b899f32a"
      },
      "execution_count": null,
      "outputs": [
        {
          "output_type": "stream",
          "name": "stdout",
          "text": [
            "CNN(\n",
            "  (module1): Sequential(\n",
            "    (0): Conv2d(1, 32, kernel_size=(3, 3), stride=(1, 1), padding=same)\n",
            "    (1): BatchNorm2d(32, eps=1e-05, momentum=0.1, affine=True, track_running_stats=True)\n",
            "    (2): Dropout(p=0.2, inplace=False)\n",
            "    (3): ReLU()\n",
            "    (4): MaxPool2d(kernel_size=2, stride=2, padding=0, dilation=1, ceil_mode=False)\n",
            "  )\n",
            "  (module2): Sequential(\n",
            "    (0): Conv2d(32, 64, kernel_size=(3, 3), stride=(1, 1), padding=same)\n",
            "    (1): BatchNorm2d(64, eps=1e-05, momentum=0.1, affine=True, track_running_stats=True)\n",
            "    (2): Dropout(p=0.2, inplace=False)\n",
            "    (3): ReLU()\n",
            "    (4): MaxPool2d(kernel_size=2, stride=2, padding=0, dilation=1, ceil_mode=False)\n",
            "  )\n",
            "  (module3): Sequential(\n",
            "    (0): Conv2d(64, 128, kernel_size=(3, 3), stride=(1, 1), padding=same)\n",
            "    (1): BatchNorm2d(128, eps=1e-05, momentum=0.1, affine=True, track_running_stats=True)\n",
            "    (2): Dropout(p=0.2, inplace=False)\n",
            "    (3): ReLU()\n",
            "    (4): MaxPool2d(kernel_size=2, stride=2, padding=0, dilation=1, ceil_mode=False)\n",
            "  )\n",
            "  (flat): Flatten(start_dim=1, end_dim=-1)\n",
            "  (fc1): Linear(in_features=2048, out_features=2048, bias=True)\n",
            "  (drop): Dropout(p=0.4, inplace=False)\n",
            "  (fc2): Linear(in_features=2048, out_features=1024, bias=True)\n",
            "  (fc3): Linear(in_features=1024, out_features=10, bias=True)\n",
            ")\n"
          ]
        }
      ]
    },
    {
      "cell_type": "code",
      "source": [
        "print(f'data in training set: {len(train_dataset)}')\n",
        "print(f'data in validation set: {len(validation_dataset)}')"
      ],
      "metadata": {
        "colab": {
          "base_uri": "https://localhost:8080/"
        },
        "id": "BEVYLhIdjgvt",
        "outputId": "fd544dcf-087f-4871-8c8f-b69679c58b1b"
      },
      "execution_count": null,
      "outputs": [
        {
          "output_type": "stream",
          "name": "stdout",
          "text": [
            "data in training set: 60000\n",
            "data in validation set: 10000\n"
          ]
        }
      ]
    },
    {
      "cell_type": "code",
      "source": [
        "criterion = nn.CrossEntropyLoss(reduction=\"sum\")\n",
        "learning_rate = 0.001\n",
        "optimizer = torch.optim.Adam(model.parameters(), lr=learning_rate)\n",
        "train_loader = torch.utils.data.DataLoader(dataset=train_dataset, batch_size=200)\n",
        "validation_loader = torch.utils.data.DataLoader(dataset=validation_dataset, batch_size=1000)"
      ],
      "metadata": {
        "id": "s4OPGAB7jIsr"
      },
      "execution_count": null,
      "outputs": []
    },
    {
      "cell_type": "code",
      "source": [
        "from sklearn.utils import validation\n",
        "\n",
        "best_model = None\n",
        "n_epochs = 40\n",
        "model.to(device) # load the network model to device (GPU/CPU)\n",
        "best_model = None # update the model only when the training has improvements \n",
        "best_loss = np.inf\n",
        "N_test = len(validation_dataset)\n",
        "loss_list = []\n",
        "epoch_loss = []\n",
        "epoch_acc = []\n",
        "epoch_val_loss = []"
      ],
      "metadata": {
        "id": "-urf7jNf8nZj"
      },
      "execution_count": null,
      "outputs": []
    },
    {
      "cell_type": "markdown",
      "source": [
        "Define the training iteration"
      ],
      "metadata": {
        "id": "DLy9an95faZI"
      }
    },
    {
      "cell_type": "code",
      "source": [
        "for epoch in range(n_epochs):\n",
        "  model.train() # set the model to the train mode, it is already on device\n",
        "  # all involved tensors for a particular operation must be on the same device, cpu / gpu\n",
        "  # you can use .to(device) where the device is set to torch.device('cpu') / torch.device('cuda') / [torch.device('cuda:0') , torch.device('cuda:1')] - multi-GPU setting\n",
        "  # or use torch.tensor.cuda() / torch.tensor.cpu() to move the tensor between the CPU and GPU memory\n",
        "  # I show you both ways in the code below\n",
        "  for X_batch, y_batch in train_loader:\n",
        "    y_pred = model(X_batch.to(device)) # y_pred is on device since it is computed on device\n",
        "    loss = criterion(y_pred, y_batch.to(device)) # both y_pred and y_batch should be on device\n",
        "    optimizer.zero_grad() # clean the old gradients for the upcoming update\n",
        "    loss.backward() # get the gradients based on errors\n",
        "    optimizer.step() # update the weights in the model\n",
        "    loss_list.append(loss.item()) # get the loss value by callin .item() down to CPU\n",
        "  epoch_loss.append(np.sum(loss_list))\n",
        "  loss_list = []\n",
        "  \n",
        "  # validation\n",
        "  correct = 0\n",
        "  val_loss = 0\n",
        "  model.eval() # set the model to evaluation mode\n",
        "  with torch.no_grad(): # stop recording the gradients\n",
        "    for X_batch, y_batch in validation_loader:\n",
        "      y_pred = model(X_batch.cuda())\n",
        "      val_loss += criterion(y_pred, y_batch.to(device))\n",
        "      _, yhat = torch.max(y_pred,1) # compare to tensorflow, tensorflow uses tf.math.argmax() to get the predicted index\n",
        "      correct += (yhat == y_batch.to(device)).sum().item()\n",
        "    if val_loss < best_loss: # if the validation loss reduces, we update the model\n",
        "      best_loss = val_loss\n",
        "      best_model = model.state_dict()\n",
        "\n",
        "\n",
        "    epoch_val_loss.append(val_loss.item())\n",
        "    accuracy = correct / N_test\n",
        "    epoch_acc.append(accuracy)\n",
        "  \n",
        "  print(\"Epoch {0:3d} -- loss: {1:.4f} -- val loss: {2:.4f} -- val acc: {3:.4f}\".format(epoch, epoch_loss[epoch], epoch_val_loss[epoch], epoch_acc[epoch]))\n",
        "\n",
        "torch.save(best_model, \"FMNIST.pth\")"
      ],
      "metadata": {
        "id": "qCKDvu7R9R_H",
        "outputId": "b3f38c08-8e80-493f-dd3b-30ca2a9cbfc8",
        "colab": {
          "base_uri": "https://localhost:8080/"
        }
      },
      "execution_count": null,
      "outputs": [
        {
          "output_type": "stream",
          "name": "stdout",
          "text": [
            "Epoch   0 -- loss: 49322.9230 -- val loss: 4795.7705 -- val acc: 0.8279\n",
            "Epoch   1 -- loss: 21825.6190 -- val loss: 3736.2285 -- val acc: 0.8718\n",
            "Epoch   2 -- loss: 19431.4157 -- val loss: 3801.3838 -- val acc: 0.8672\n",
            "Epoch   3 -- loss: 18058.8116 -- val loss: 3366.5286 -- val acc: 0.8800\n",
            "Epoch   4 -- loss: 17477.0773 -- val loss: 3332.9041 -- val acc: 0.8859\n",
            "Epoch   5 -- loss: 15850.4379 -- val loss: 3600.5718 -- val acc: 0.8691\n",
            "Epoch   6 -- loss: 15444.3491 -- val loss: 2983.7866 -- val acc: 0.8954\n",
            "Epoch   7 -- loss: 14326.3619 -- val loss: 3129.8821 -- val acc: 0.8905\n",
            "Epoch   8 -- loss: 13721.1396 -- val loss: 3312.8560 -- val acc: 0.8839\n",
            "Epoch   9 -- loss: 13246.9167 -- val loss: 3019.4038 -- val acc: 0.8919\n",
            "Epoch  10 -- loss: 12713.7209 -- val loss: 3512.8506 -- val acc: 0.8776\n",
            "Epoch  11 -- loss: 12107.6929 -- val loss: 3533.0740 -- val acc: 0.8775\n",
            "Epoch  12 -- loss: 11824.7345 -- val loss: 3070.5237 -- val acc: 0.8884\n",
            "Epoch  13 -- loss: 11411.2802 -- val loss: 2859.0273 -- val acc: 0.8970\n",
            "Epoch  14 -- loss: 10819.1760 -- val loss: 3019.9346 -- val acc: 0.8935\n",
            "Epoch  15 -- loss: 10372.5656 -- val loss: 2949.1602 -- val acc: 0.8955\n",
            "Epoch  16 -- loss: 15139.2947 -- val loss: 3344.1680 -- val acc: 0.8852\n",
            "Epoch  17 -- loss: 9418.3351 -- val loss: 3106.3091 -- val acc: 0.8918\n",
            "Epoch  18 -- loss: 9323.2921 -- val loss: 3358.1667 -- val acc: 0.8927\n",
            "Epoch  19 -- loss: 8854.4697 -- val loss: 3143.1362 -- val acc: 0.8960\n",
            "Epoch  20 -- loss: 8699.4958 -- val loss: 2927.6082 -- val acc: 0.9051\n",
            "Epoch  21 -- loss: 8652.7241 -- val loss: 3199.3052 -- val acc: 0.8926\n",
            "Epoch  22 -- loss: 8599.9962 -- val loss: 3466.4656 -- val acc: 0.8915\n",
            "Epoch  23 -- loss: 8354.2114 -- val loss: 3346.5105 -- val acc: 0.8912\n",
            "Epoch  24 -- loss: 8452.5088 -- val loss: 3233.9236 -- val acc: 0.8950\n",
            "Epoch  25 -- loss: 7989.0138 -- val loss: 2826.3726 -- val acc: 0.9078\n",
            "Epoch  26 -- loss: 7957.7848 -- val loss: 3199.9751 -- val acc: 0.9009\n",
            "Epoch  27 -- loss: 7750.5105 -- val loss: 3057.9465 -- val acc: 0.9006\n",
            "Epoch  28 -- loss: 7484.3016 -- val loss: 2954.9209 -- val acc: 0.9058\n",
            "Epoch  29 -- loss: 7463.2252 -- val loss: 2950.9275 -- val acc: 0.9096\n",
            "Epoch  30 -- loss: 7381.5340 -- val loss: 2852.1528 -- val acc: 0.9074\n",
            "Epoch  31 -- loss: 7423.8942 -- val loss: 2810.4287 -- val acc: 0.9116\n",
            "Epoch  32 -- loss: 7123.5492 -- val loss: 3168.1636 -- val acc: 0.8945\n",
            "Epoch  33 -- loss: 6997.2696 -- val loss: 2623.9492 -- val acc: 0.9152\n",
            "Epoch  34 -- loss: 6965.0248 -- val loss: 2812.1079 -- val acc: 0.9035\n",
            "Epoch  35 -- loss: 6866.5355 -- val loss: 2829.0496 -- val acc: 0.9112\n",
            "Epoch  36 -- loss: 6762.1122 -- val loss: 2832.7578 -- val acc: 0.9080\n",
            "Epoch  37 -- loss: 6304.6840 -- val loss: 3078.1997 -- val acc: 0.9104\n",
            "Epoch  38 -- loss: 6471.4056 -- val loss: 2800.7815 -- val acc: 0.9156\n",
            "Epoch  39 -- loss: 6406.3917 -- val loss: 2695.7183 -- val acc: 0.9168\n"
          ]
        }
      ]
    },
    {
      "cell_type": "code",
      "source": [
        "plt.figure(figsize=(10, 8))\n",
        "plt.subplot(2, 1, 1)\n",
        "plt.plot(epoch_loss, label='Training Loss')\n",
        "plt.legend(loc='best')\n",
        "plt.title('Training Loss')\n",
        "\n",
        "plt.subplot(2, 1, 2)\n",
        "plt.plot(epoch_acc, label='Validation Accuracy')\n",
        "plt.plot()\n",
        "plt.legend(loc='best')\n",
        "plt.title('Validation Accuracy')\n",
        "plt.xlabel('epoch')"
      ],
      "metadata": {
        "colab": {
          "base_uri": "https://localhost:8080/",
          "height": 736
        },
        "id": "EpV7oh3Urfd4",
        "outputId": "1556d856-4410-446f-eb72-e08b32d265e1"
      },
      "execution_count": null,
      "outputs": [
        {
          "output_type": "execute_result",
          "data": {
            "text/plain": [
              "Text(0.5, 0, 'epoch')"
            ]
          },
          "metadata": {},
          "execution_count": 25
        },
        {
          "output_type": "display_data",
          "data": {
            "text/plain": [
              "<Figure size 1000x800 with 2 Axes>"
            ],
            "image/png": "[encoded data removed]"
          },
          "metadata": {}
        }
      ]
    },
    {
      "cell_type": "markdown",
      "source": [
        "load the best model: 1-load the dicts from file, 2-load the parameters to the object "
      ],
      "metadata": {
        "id": "EMlr7wMiK875"
      }
    },
    {
      "cell_type": "code",
      "source": [
        "best_model = torch.load(\"FMNIST.pth\")\n",
        "model.load_state_dict(best_model)"
      ],
      "metadata": {
        "id": "jjHeCaiAyD7k",
        "outputId": "ff736685-c6f4-4c85-d79a-d1385919b907",
        "colab": {
          "base_uri": "https://localhost:8080/"
        }
      },
      "execution_count": null,
      "outputs": [
        {
          "output_type": "execute_result",
          "data": {
            "text/plain": [
              "<All keys matched successfully>"
            ]
          },
          "metadata": {},
          "execution_count": 26
        }
      ]
    },
    {
      "cell_type": "code",
      "source": [
        "correct = 0\n",
        "N_test = 10000\n",
        "\n",
        "for x_test, y_test in validation_loader:\n",
        "  x_test, y_test = x_test.to(device), y_test.to(device)\n",
        "  z = model(x_test)\n",
        "  _, yhat = torch.max(z.data,1)\n",
        "  correct += (yhat == y_test).sum().item()\n",
        "  accuracy = correct / N_test\n",
        "\n",
        "print(f'Trained Model accuracy: {accuracy}')"
      ],
      "metadata": {
        "colab": {
          "base_uri": "https://localhost:8080/"
        },
        "id": "qpyp6DWT1m98",
        "outputId": "5dc54cb5-fecb-48bc-b47d-a2ffeba491bd"
      },
      "execution_count": null,
      "outputs": [
        {
          "output_type": "stream",
          "name": "stdout",
          "text": [
            "Trained Model accuracy: 0.9129\n"
          ]
        }
      ]
    }
  ]
}